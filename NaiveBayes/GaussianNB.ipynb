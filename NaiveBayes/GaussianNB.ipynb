{
 "cells": [
  {
   "cell_type": "markdown",
   "metadata": {},
   "source": [
    "# 朴素贝叶斯\n",
    "\n",
    "基于贝叶斯定理与特征条件独立假设的分类方法。\n",
    "* 生成式  \n",
    "* 条件独立性假设：分类的特征在类确定的条件下都是条件独立的，具体满足  \n",
    "$$P(X=x\\ |\\ Y=c_k)=\\prod_{j=1}^nP(X^{(j)}=x^{(j)}\\ |\\ Y=c_k)$$  \n",
    "* 若输入变量之间非独立，存在概率依存关系，则模型为***贝叶斯网络***  \n",
    "\n",
    "模型：\n",
    "\n",
    "- 高斯模型\n",
    "- 多项式模型\n",
    "- 伯努利模型"
   ]
  },
  {
   "cell_type": "markdown",
   "metadata": {},
   "source": [
    "#### 朴素贝叶斯算法(naive Bayes algorithm)\n",
    "**输入**：训练数据$T = \\{(x_{1},y_{1}),(x_{2},y_{2}),...,(x_{N},y_{N})\\}$，其中$x_i = (x_i ^{(1)},x_i ^{(2)},\\cdots, x_i ^{(n)} )^T$, $x_i ^{(j)}$是第$i$个样本的第$j$个特征，$x_i ^{(j)}\\in \\{\\alpha_{j1},\\alpha_{j2},\\cdots,\\alpha_{j{S_j}}\\}$,$\\alpha_{jl}$是第$j$个特征可能取的第$l$个值，$j = 1,2,\\cdots,n, l = 1,2,\\cdots,S_j, y_i\\in\\{c_1,c_2,\\cdots,c_K\\}$;实例$x$;  \n",
    "  \n",
    "**输出**：实例$x$的分类。  \n",
    "(1) 计算先验概率及条件概率  \n",
    "**说明**：$\\lambda=0$时为***极大似然估计***，可能出现分母为0；采用$\\lambda$即为***贝叶斯估计***，常取$\\lambda=1$，称为拉普拉斯平滑。  \n",
    "$$P(Y=c_k) = \\frac{\\sum\\limits_{i=1}^N I(y_i = c_k)+\\lambda}{N+K\\lambda}, k=1,2,\\cdots,K$$  \n",
    "$$P(X^{(j)} = \\alpha_{jl}\\  |\\  Y=c_k) = \\frac{\\sum\\limits_{i=1}^N I(x_i^j = \\alpha_{jl},y_i=c_k)+\\lambda}{\\sum\\limits_{i=1}^N I(y_i=c_k)+S_j\\lambda}$$  \n",
    "$$j = 1,2,\\cdots,n;\\  l = 1,2,\\cdots,S_j;\\  k = 1,2,\\cdots,K$$  \n",
    "(2) 对于给定的实例 $x=(x^{(1)},x^{(2)},\\cdots,x^{(n)})^T$，计算  \n",
    "$$P(Y=c_k)\\prod_{j=1}^n P(X^{(j)} = x^{(j)}\\ |\\ Y=c_k),\\ k=1,2,\\cdots,K$$  \n",
    "(3) 确定实例$x$的类  \n",
    "$$y=\\mathop{\\arg\\max}_{c_k}P(Y=c_k)\\prod_{j=1}^nP(X^{(j)}=x^{(j)}\\ |\\ Y=c_k)$$"
   ]
  },
  {
   "cell_type": "markdown",
   "metadata": {},
   "source": [
    "**例4.1** 试由表4.1的训练数据学习一个朴素贝叶斯分类器并确定$x=(2,S)^T$的类标记$y$。表中$X^{(1)},X^{(2)}$为特征，取值的集合分别为$A_t=\\{1,2,3\\},\\ A_2=\\{S,M,L\\}$，$Y$为类标记，$Y\\in C=\\{1,-1\\}$。并按照拉普拉斯平滑重新估计概率。\n",
    "<br>  \n",
    "  <center><strong>表4.1 训练数据</strong></center>  \n",
    "\n",
    "|$\\ $          |1|2|3|4|5|6|7|8|9|10|11|12|13|14|15|\n",
    "|---           |-|-|-|-|-|-|-|-|-|-|-|-|-|-|-|  \n",
    "|$X$<sup>(1)</sup> |1|1|1|1|1|2|2|2|2|2|3|3|3|3|3|  \n",
    "|$X$<sup>(2)</sup>|S|M|M|S|S|S|M|M|L|L|L|M|M|L|L|  \n",
    "|$Y$          |-1|-1|1|1|-1|-1|-1|1|1|1|1|1|1|1|-1|  \n",
    "\n",
    "**解** 根据算法4.1：  \n",
    "(1) 计算先验概率及条件概率  \n",
    "$$P(y=1)=\\frac{9}{15}=\\frac{3}{5},\\ P(y=-1)=\\frac{6}{15}=\\frac{2}{5}$$  \n",
    "(2) 对于给定的实例$x=(2,S)^T$，计算  \n",
    "$$P(X^{(1)}=2\\ |\\ Y=1)=\\frac{P(X^{(1)}=2,Y=1)}{P(Y=1)}=\\frac{3}{9}=\\frac{1}{3}$$  \n",
    "$$P(X^{(2)}=S\\ |\\ Y=1)=\\frac{P(X^{(2)}=S,Y=1)}{P(Y=1)}=\\frac{1}{9}$$  \n",
    "$$P(X^{(1)}=2\\ |\\ Y=-1)=\\frac{P(X^{(1)}=2,Y=-1)}{P(Y=1)}=\\frac{2}{6}=\\frac{1}{3}$$  \n",
    "$$P(X^{(2)}=S\\ |\\ Y=-1)=\\frac{P(X^{(2)}=S,Y=-1)}{P(Y=1)}=\\frac{3}{6}=\\frac{1}{2}$$  \n",
    "(3) 确定实例$x$的类  \n",
    "$$P(Y=1)P(X^{(1)}=2\\ |\\ Y=1)P(X^{(2)}=S\\ |\\ Y=1)=\\frac{3}{5}\\cdot\\frac{1}{3}\\cdot\\frac{1}{9}=\\frac{1}{45}$$  \n",
    "$$P(Y=-1)P(X^{(1)}=2\\ |\\ Y=-1)P(X^{(2)}=S\\ |\\ Y=-1)=\\frac{2}{5}\\cdot\\frac{1}{3}\\cdot\\frac{1}{2}=\\frac{1}{15}$$  \n",
    "所以，$y=-1$。  \n",
    "  \n",
    "**拉普拉斯平滑估计**：  \n",
    "(1) 计算先验概率及条件概率\n",
    "$\\lambda=1,\\ S_1=S_2=3,\\ K=2$  \n",
    "$$P(y=1)=\\frac{9+1}{15+2\\cdot1}=\\frac{10}{17},\\ P(y=-1)=\\frac{6+1}{15+2\\cdot1}=\\frac{7}{17}$$  \n",
    "(2) 对于给定的实例$x=(2,S)^T$，计算  \n",
    "$$P(X^{(1)}=2\\ |\\ Y=1)=\\frac{P(X^{(1)}=2,Y=1)+1}{P(Y=1)+3\\cdot1}=\\frac{4}{12}=\\frac{1}{3}$$  \n",
    "$$P(X^{(2)}=S\\ |\\ Y=1)=\\frac{P(X^{(2)}=S,Y=1)+1}{P(Y=1)+3\\cdot1}=\\frac{2}{12}=\\frac{1}{6}$$  \n",
    "$$P(X^{(1)}=2\\ |\\ Y=-1)=\\frac{P(X^{(1)}=2,Y=-1)+1}{P(Y=1)+3\\cdot1}=\\frac{3}{9}=\\frac{1}{3}$$  \n",
    "$$P(X^{(2)}=S\\ |\\ Y=-1)=\\frac{P(X^{(2)}=S,Y=-1)+1}{P(Y=1)+3\\cdot1}=\\frac{4}{9}$$  \n",
    "(3) 确定实例$x$的类  \n",
    "$$P(Y=1)P(X^{(1)}=2\\ |\\ Y=1)P(X^{(2)}=S\\ |\\ Y=1)=\\frac{10}{17}\\cdot\\frac{1}{3}\\cdot\\frac{1}{6}=\\frac{5}{153}\\approx0.03268$$  \n",
    "$$P(Y=-1)P(X^{(1)}=2\\ |\\ Y=-1)P(X^{(2)}=S\\ |\\ Y=-1)=\\frac{7}{17}\\cdot\\frac{1}{3}\\cdot\\frac{4}{9}=\\frac{28}{459}\\approx0.0610$$  \n",
    "所以，$y=-1$。  "
   ]
  },
  {
   "cell_type": "code",
   "execution_count": 5,
   "metadata": {},
   "outputs": [],
   "source": [
    "import numpy as np\n",
    "import pandas as pd\n",
    "import matplotlib.pyplot as plt\n",
    "%matplotlib inline\n",
    "\n",
    "from sklearn.datasets import load_iris\n",
    "from sklearn.model_selection import train_test_split\n",
    "\n",
    "from collections import Counter\n",
    "import math"
   ]
  },
  {
   "cell_type": "code",
   "execution_count": 8,
   "metadata": {},
   "outputs": [],
   "source": [
    "# data\n",
    "def create_data():\n",
    "    iris = load_iris()\n",
    "    df = pd.DataFrame(iris.data, columns=iris.feature_names)\n",
    "    df['label'] = iris.target\n",
    "    df.columns = ['sepal length', 'sepal width', 'petal length', 'petal width', 'label']\n",
    "    data = np.array(df.iloc[:100, :])\n",
    "    # print(data)\n",
    "    return data[:,:-1], data[:,-1]"
   ]
  },
  {
   "cell_type": "code",
   "execution_count": 9,
   "metadata": {},
   "outputs": [],
   "source": [
    "X, y = create_data()\n",
    "X_train, X_test, y_train, y_test = train_test_split(X, y, test_size=0.3)"
   ]
  },
  {
   "cell_type": "code",
   "execution_count": 10,
   "metadata": {},
   "outputs": [
    {
     "data": {
      "text/plain": [
       "(array([5.7, 2.6, 3.5, 1. ]), 1.0)"
      ]
     },
     "execution_count": 10,
     "metadata": {},
     "output_type": "execute_result"
    }
   ],
   "source": [
    "X_test[0], y_test[0]"
   ]
  },
  {
   "cell_type": "markdown",
   "metadata": {},
   "source": [
    "参考：https://machinelearningmastery.com/naive-bayes-classifier-scratch-python/\n",
    "\n",
    "## 对于连续属性——GaussianNB 高斯朴素贝叶斯\n",
    "\n",
    "特征的可能性被假设为高斯\n",
    "\n",
    "概率密度函数：\n",
    "$$P(x_i | y_k)=\\frac{1}{\\sqrt{2\\pi\\sigma^2_{yk}}}exp(-\\frac{(x_i-\\mu_{yk})^2}{2\\sigma^2_{yk}})$$\n",
    "\n",
    "数学期望(mean)：$\\mu$，方差：$\\sigma^2=\\frac{\\sum(X-\\mu)^2}{N}$"
   ]
  },
  {
   "cell_type": "code",
   "execution_count": 11,
   "metadata": {},
   "outputs": [],
   "source": [
    "class NaiveBayes:\n",
    "    def __init__(self):\n",
    "        self.model = None\n",
    "\n",
    "    # 数学期望\n",
    "    @staticmethod\n",
    "    def mean(X):\n",
    "        return sum(X) / float(len(X))\n",
    "\n",
    "    # 标准差（方差）\n",
    "    def stdev(self, X):\n",
    "        avg = self.mean(X)\n",
    "        return math.sqrt(sum([pow(x-avg, 2) for x in X]) / float(len(X)))\n",
    "\n",
    "    # 概率密度函数\n",
    "    def gaussian_probability(self, x, mean, stdev):\n",
    "        exponent = math.exp(-(math.pow(x-mean,2)/(2*math.pow(stdev,2))))\n",
    "        return (1 / (math.sqrt(2*math.pi) * stdev)) * exponent\n",
    "\n",
    "    # 处理X_train\n",
    "    def summarize(self, train_data):\n",
    "        summaries = [(self.mean(i), self.stdev(i)) for i in zip(*train_data)]\n",
    "        return summaries\n",
    "\n",
    "    # 分类别求出数学期望和标准差\n",
    "    def fit(self, X, y):\n",
    "        labels = list(set(y))\n",
    "        data = {label:[] for label in labels}\n",
    "        for f, label in zip(X, y):\n",
    "            data[label].append(f)\n",
    "        self.model = {label: self.summarize(value) for label, value in data.items()}\n",
    "        return 'gaussianNB train done!'\n",
    "\n",
    "    # 计算概率\n",
    "    def calculate_probabilities(self, input_data):\n",
    "        # summaries:{0.0: [(5.0, 0.37),(3.42, 0.40)], 1.0: [(5.8, 0.449),(2.7, 0.27)]}\n",
    "        # input_data:[1.1, 2.2]\n",
    "        probabilities = {}\n",
    "        for label, value in self.model.items():\n",
    "            probabilities[label] = 1\n",
    "            for i in range(len(value)):\n",
    "                mean, stdev = value[i]\n",
    "                probabilities[label] *= self.gaussian_probability(input_data[i], mean, stdev)\n",
    "        return probabilities\n",
    "\n",
    "    # 类别\n",
    "    def predict(self, X_test):\n",
    "        # {0.0: 2.9680340789325763e-27, 1.0: 3.5749783019849535e-26}\n",
    "        label = sorted(self.calculate_probabilities(X_test).items(), key=lambda x: x[-1])[-1][0]\n",
    "        return label\n",
    "\n",
    "    def score(self, X_test, y_test):\n",
    "        right = 0\n",
    "        for X, y in zip(X_test, y_test):\n",
    "            label = self.predict(X)\n",
    "            if label == y:\n",
    "                right += 1\n",
    "\n",
    "        return right / float(len(X_test))"
   ]
  },
  {
   "cell_type": "code",
   "execution_count": 12,
   "metadata": {},
   "outputs": [],
   "source": [
    "model = NaiveBayes()"
   ]
  },
  {
   "cell_type": "code",
   "execution_count": 13,
   "metadata": {},
   "outputs": [
    {
     "data": {
      "text/plain": [
       "'gaussianNB train done!'"
      ]
     },
     "execution_count": 13,
     "metadata": {},
     "output_type": "execute_result"
    }
   ],
   "source": [
    "model.fit(X_train, y_train)"
   ]
  },
  {
   "cell_type": "code",
   "execution_count": 14,
   "metadata": {},
   "outputs": [
    {
     "name": "stdout",
     "output_type": "stream",
     "text": [
      "0.0\n"
     ]
    }
   ],
   "source": [
    "print(model.predict([4.4,  3.2,  1.3,  0.2]))"
   ]
  },
  {
   "cell_type": "code",
   "execution_count": 15,
   "metadata": {},
   "outputs": [
    {
     "data": {
      "text/plain": [
       "1.0"
      ]
     },
     "execution_count": 15,
     "metadata": {},
     "output_type": "execute_result"
    }
   ],
   "source": [
    "model.score(X_test, y_test)"
   ]
  },
  {
   "cell_type": "markdown",
   "metadata": {
    "collapsed": true
   },
   "source": [
    "## sklearn.naive_bayes"
   ]
  },
  {
   "cell_type": "code",
   "execution_count": 16,
   "metadata": {},
   "outputs": [],
   "source": [
    "from sklearn.naive_bayes import GaussianNB"
   ]
  },
  {
   "cell_type": "code",
   "execution_count": 17,
   "metadata": {},
   "outputs": [
    {
     "data": {
      "text/plain": [
       "GaussianNB(priors=None)"
      ]
     },
     "execution_count": 17,
     "metadata": {},
     "output_type": "execute_result"
    }
   ],
   "source": [
    "clf = GaussianNB()\n",
    "clf.fit(X_train, y_train)"
   ]
  },
  {
   "cell_type": "code",
   "execution_count": 18,
   "metadata": {},
   "outputs": [
    {
     "data": {
      "text/plain": [
       "1.0"
      ]
     },
     "execution_count": 18,
     "metadata": {},
     "output_type": "execute_result"
    }
   ],
   "source": [
    "clf.score(X_test, y_test)"
   ]
  },
  {
   "cell_type": "code",
   "execution_count": 23,
   "metadata": {},
   "outputs": [
    {
     "data": {
      "text/plain": [
       "array([0.])"
      ]
     },
     "execution_count": 23,
     "metadata": {},
     "output_type": "execute_result"
    }
   ],
   "source": [
    "clf.predict(np.array([4.4,  3.2,  1.3,  0.2]).reshape(1,-1))"
   ]
  }
 ],
 "metadata": {
  "kernelspec": {
   "display_name": "Python 3",
   "language": "python",
   "name": "python3"
  },
  "language_info": {
   "codemirror_mode": {
    "name": "ipython",
    "version": 3
   },
   "file_extension": ".py",
   "mimetype": "text/x-python",
   "name": "python",
   "nbconvert_exporter": "python",
   "pygments_lexer": "ipython3",
   "version": "3.6.5"
  },
  "toc": {
   "base_numbering": 1,
   "nav_menu": {},
   "number_sections": false,
   "sideBar": true,
   "skip_h1_title": false,
   "title_cell": "Table of Contents",
   "title_sidebar": "Contents",
   "toc_cell": false,
   "toc_position": {},
   "toc_section_display": true,
   "toc_window_display": false
  },
  "varInspector": {
   "cols": {
    "lenName": 16,
    "lenType": 16,
    "lenVar": 40
   },
   "kernels_config": {
    "python": {
     "delete_cmd_postfix": "",
     "delete_cmd_prefix": "del ",
     "library": "var_list.py",
     "varRefreshCmd": "print(var_dic_list())"
    },
    "r": {
     "delete_cmd_postfix": ") ",
     "delete_cmd_prefix": "rm(",
     "library": "var_list.r",
     "varRefreshCmd": "cat(var_dic_list()) "
    }
   },
   "types_to_exclude": [
    "module",
    "function",
    "builtin_function_or_method",
    "instance",
    "_Feature"
   ],
   "window_display": false
  }
 },
 "nbformat": 4,
 "nbformat_minor": 2
}
